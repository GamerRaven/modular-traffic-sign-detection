{
  "cells": [
    {
      "cell_type": "code",
      "execution_count": null,
      "id": "5c9ee826",
      "metadata": {
        "execution": {
          "iopub.execute_input": "2025-07-19T13:43:28.689143Z",
          "iopub.status.busy": "2025-07-19T13:43:28.688773Z",
          "iopub.status.idle": "2025-07-19T13:43:40.772898Z",
          "shell.execute_reply": "2025-07-19T13:43:40.771809Z"
        },
        "id": "5c9ee826",
        "papermill": {
          "duration": 12.090466,
          "end_time": "2025-07-19T13:43:40.775090",
          "exception": false,
          "start_time": "2025-07-19T13:43:28.684624",
          "status": "completed"
        },
        "tags": []
      },
      "outputs": [],
      "source": [
        "!pip install ultralytics"
      ]
    },
    {
      "cell_type": "code",
      "execution_count": null,
      "id": "dd46ce8d",
      "metadata": {
        "execution": {
          "iopub.execute_input": "2025-07-19T13:43:40.783450Z",
          "iopub.status.busy": "2025-07-19T13:43:40.783158Z",
          "iopub.status.idle": "2025-07-19T20:25:51.477349Z",
          "shell.execute_reply": "2025-07-19T20:25:51.476347Z"
        },
        "id": "dd46ce8d",
        "papermill": {
          "duration": 24130.700766,
          "end_time": "2025-07-19T20:25:51.479583",
          "exception": false,
          "start_time": "2025-07-19T13:43:40.778817",
          "status": "completed"
        },
        "tags": []
      },
      "outputs": [],
      "source": [
        "from ultralytics import YOLO\n",
        "\n",
        "model = YOLO('yolov8m-cls.pt')\n",
        "\n",
        "model.train(data='', epochs=50) #Download the BDD100K dataset"
      ]
    },
    {
      "cell_type": "code",
      "execution_count": null,
      "id": "fe55a123",
      "metadata": {
        "execution": {
          "iopub.execute_input": "2025-07-19T20:26:22.504528Z",
          "iopub.status.busy": "2025-07-19T20:26:22.504120Z",
          "iopub.status.idle": "2025-07-19T20:26:22.646092Z",
          "shell.execute_reply": "2025-07-19T20:26:22.645357Z"
        },
        "id": "fe55a123",
        "papermill": {
          "duration": 15.686897,
          "end_time": "2025-07-19T20:26:22.648025",
          "exception": false,
          "start_time": "2025-07-19T20:26:06.961128",
          "status": "completed"
        },
        "tags": []
      },
      "outputs": [],
      "source": [
        "# Save the YOLOv8 model\n",
        "\n",
        "# Mount Google Drive\n",
        "from google.colab import drive\n",
        "drive.mount('/content/drive')\n",
        "\n",
        "# Define save path on Drive\n",
        "drive_path = \"\"\n",
        "\n",
        "!mkdir -p {drive_path}\n",
        "!cp -r /content/runs/detect/train {drive_path}/\n",
        "!ls -lh {drive_path}/train"
      ]
    },
    {
      "cell_type": "code",
      "execution_count": null,
      "id": "1648233b",
      "metadata": {
        "execution": {
          "iopub.execute_input": "2025-07-19T20:26:53.794976Z",
          "iopub.status.busy": "2025-07-19T20:26:53.794623Z",
          "iopub.status.idle": "2025-07-19T20:28:11.257024Z",
          "shell.execute_reply": "2025-07-19T20:28:11.256037Z"
        },
        "id": "1648233b",
        "papermill": {
          "duration": 93.04241,
          "end_time": "2025-07-19T20:28:11.258832",
          "exception": false,
          "start_time": "2025-07-19T20:26:38.216422",
          "status": "completed"
        },
        "tags": []
      },
      "outputs": [],
      "source": [
        "import numpy as np\n",
        "import matplotlib.pyplot as plt\n",
        "import seaborn as sns\n",
        "\n",
        "metrics = model.val()\n",
        "metrics.top1\n",
        "metrics.top5\n",
        "\n",
        "print(f\"Top-1 Accuracy: {metrics.top1:.4f}\")\n",
        "print(f\"Top-5 Accuracy: {metrics.top5:.4f}\")\n",
        "\n",
        "class_names = model.names\n",
        "\n",
        "confusion_matrix = metrics.confusion_matrix.matrix\n",
        "print(\"\\nConfusion Matrix:\")\n",
        "print(confusion_matrix)\n",
        "\n",
        "class_wise_accuracy = np.diag(confusion_matrix) / np.sum(confusion_matrix, axis=1)\n",
        "print(\"\\nClass-wise Accuracy:\")\n",
        "for i, class_name in enumerate(class_names):\n",
        "    print(f\"{class_name}: {class_wise_accuracy[i]:.4f}\")\n",
        "\n",
        "plt.figure(figsize=(8, 6))\n",
        "sns.heatmap(confusion_matrix, annot=True, fmt='.0f', cmap='Blues',\n",
        "            xticklabels=class_names, yticklabels=class_names)\n",
        "plt.title('Confusion Matrix')\n",
        "plt.xlabel('Predicted')\n",
        "plt.ylabel('True')\n",
        "plt.show()"
      ]
    },
    {
      "cell_type": "markdown",
      "id": "rEcsBfPXtoMe",
      "metadata": {
        "id": "rEcsBfPXtoMe"
      },
      "source": [
        "Single Image Inference"
      ]
    },
    {
      "cell_type": "code",
      "execution_count": null,
      "id": "bfb9c1f0",
      "metadata": {
        "execution": {
          "iopub.execute_input": "2025-07-19T20:28:42.264440Z",
          "iopub.status.busy": "2025-07-19T20:28:42.263869Z",
          "iopub.status.idle": "2025-07-19T20:28:42.403768Z",
          "shell.execute_reply": "2025-07-19T20:28:42.402915Z"
        },
        "id": "bfb9c1f0",
        "papermill": {
          "duration": 15.363918,
          "end_time": "2025-07-19T20:28:42.405503",
          "exception": false,
          "start_time": "2025-07-19T20:28:27.041585",
          "status": "completed"
        },
        "tags": []
      },
      "outputs": [],
      "source": [
        "image_path = ''\n",
        "\n",
        "results = model.predict(source=image_path,\n",
        "                        imgsz=640,\n",
        "                        conf=0.5)"
      ]
    }
  ],
  "metadata": {
    "colab": {
      "provenance": []
    },
    "kaggle": {
      "accelerator": "gpu",
      "dataSources": [
        {
          "datasetId": 4171604,
          "sourceId": 7209804,
          "sourceType": "datasetVersion"
        },
        {
          "datasetId": 5728344,
          "isSourceIdPinned": false,
          "sourceId": 9434840,
          "sourceType": "datasetVersion"
        },
        {
          "datasetId": 7899135,
          "sourceId": 12514539,
          "sourceType": "datasetVersion"
        },
        {
          "sourceId": 251316207,
          "sourceType": "kernelVersion"
        }
      ],
      "dockerImageVersionId": 30762,
      "isGpuEnabled": true,
      "isInternetEnabled": true,
      "language": "python",
      "sourceType": "notebook"
    },
    "kernelspec": {
      "display_name": "Python 3",
      "language": "python",
      "name": "python3"
    },
    "language_info": {
      "codemirror_mode": {
        "name": "ipython",
        "version": 3
      },
      "file_extension": ".py",
      "mimetype": "text/x-python",
      "name": "python",
      "nbconvert_exporter": "python",
      "pygments_lexer": "ipython3",
      "version": "3.10.14"
    },
    "papermill": {
      "default_parameters": {},
      "duration": 24490.872299,
      "end_time": "2025-07-19T20:31:37.113663",
      "environment_variables": {},
      "exception": true,
      "input_path": "__notebook__.ipynb",
      "output_path": "__notebook__.ipynb",
      "parameters": {},
      "start_time": "2025-07-19T13:43:26.241364",
      "version": "2.5.0"
    }
  },
  "nbformat": 4,
  "nbformat_minor": 5
}
