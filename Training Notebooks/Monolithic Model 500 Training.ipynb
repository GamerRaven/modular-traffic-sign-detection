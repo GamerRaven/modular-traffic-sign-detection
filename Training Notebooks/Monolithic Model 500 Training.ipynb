{
  "nbformat": 4,
  "nbformat_minor": 0,
  "metadata": {
    "colab": {
      "provenance": [],
      "gpuType": "T4",
      "machine_shape": "hm"
    },
    "kernelspec": {
      "name": "python3",
      "display_name": "Python 3"
    },
    "language_info": {
      "name": "python"
    },
    "accelerator": "GPU"
  },
  "cells": [
    {
      "cell_type": "markdown",
      "source": [
        "Model Training (Google Colab)"
      ],
      "metadata": {
        "id": "AgX14gSj30VN"
      }
    },
    {
      "cell_type": "code",
      "source": [
        "!nvidia-smi"
      ],
      "metadata": {
        "id": "necd6-2hNfcP"
      },
      "execution_count": null,
      "outputs": []
    },
    {
      "cell_type": "code",
      "source": [
        "!pip install ultralytics\n",
        "!pip install roboflow"
      ],
      "metadata": {
        "id": "zHcNLcTaNi63"
      },
      "execution_count": null,
      "outputs": []
    },
    {
      "cell_type": "code",
      "source": [
        "import warnings\n",
        "warnings.filterwarnings('ignore')\n",
        "\n",
        "import os\n",
        "import shutil\n",
        "import numpy as np\n",
        "import pandas as pd\n",
        "import matplotlib.pyplot as plt\n",
        "import seaborn as sns\n",
        "import cv2\n",
        "import yaml\n",
        "from PIL import Image\n",
        "from ultralytics import YOLO\n",
        "from IPython.display import Video"
      ],
      "metadata": {
        "id": "EfgmqnuINnTj"
      },
      "execution_count": null,
      "outputs": []
    },
    {
      "cell_type": "code",
      "source": [
        "# Configure the visual appearance of Seaborn plots\n",
        "sns.set(rc={'axes.facecolor': '#eae8fa'}, style='darkgrid')"
      ],
      "metadata": {
        "id": "axAr6mSFNrly"
      },
      "execution_count": null,
      "outputs": []
    },
    {
      "cell_type": "code",
      "source": [
        "model = YOLO('yolov8s.pt')"
      ],
      "metadata": {
        "id": "umik7dRINuVM"
      },
      "execution_count": null,
      "outputs": []
    },
    {
      "cell_type": "code",
      "source": [
        "from roboflow import Roboflow\n",
        "rf = Roboflow(api_key=\"\") #https://docs.roboflow.com/developer/authentication/find-your-roboflow-api-key\n",
        "project = rf.workspace(\"computer-vision-l3ex2\").project(\"combined-dataset-cctsdb-500\")\n",
        "version = project.version(1)\n",
        "dataset = version.download(\"yolov8\")"
      ],
      "metadata": {
        "id": "JHgD6I0NmjbG",
        "collapsed": true
      },
      "execution_count": null,
      "outputs": []
    },
    {
      "cell_type": "code",
      "source": [
        "#Confirm Dataset Labels\n",
        "dataset_path = '/content/combined-dataset-cctsdb-500-1'\n",
        "\n",
        "yaml_file_path = os.path.join(dataset_path, dataset_path + \"/data.yaml\")\n",
        "with open(yaml_file_path, 'r') as file:\n",
        "    yaml_content = yaml.load(file, Loader=yaml.FullLoader)\n",
        "    print(yaml.dump(yaml_content, default_flow_style=False))"
      ],
      "metadata": {
        "id": "cNdTmIpgODdL"
      },
      "execution_count": null,
      "outputs": []
    },
    {
      "cell_type": "code",
      "source": [
        "# Confirm Dataset Size\n",
        "train_images_path = os.path.join(dataset_path, 'train', 'images')\n",
        "valid_images_path = os.path.join(dataset_path, 'valid', 'images')\n",
        "\n",
        "num_train_images = 0\n",
        "num_valid_images = 0\n",
        "\n",
        "train_image_sizes = set()\n",
        "valid_image_sizes = set()\n",
        "\n",
        "for filename in os.listdir(train_images_path):\n",
        "    if filename.endswith('.jpg'):\n",
        "        num_train_images += 1\n",
        "        image_path = os.path.join(train_images_path, filename)\n",
        "        with Image.open(image_path) as img:\n",
        "            train_image_sizes.add(img.size)\n",
        "\n",
        "for filename in os.listdir(valid_images_path):\n",
        "    if filename.endswith('.jpg'):\n",
        "        num_valid_images += 1\n",
        "        image_path = os.path.join(valid_images_path, filename)\n",
        "        with Image.open(image_path) as img:\n",
        "            valid_image_sizes.add(img.size)\n",
        "\n",
        "print(f\"Number of training images: {num_train_images}\")\n",
        "print(f\"Number of validation images: {num_valid_images}\")"
      ],
      "metadata": {
        "id": "cfX_Oj_EOE2U"
      },
      "execution_count": null,
      "outputs": []
    },
    {
      "cell_type": "code",
      "source": [
        "# Helper function to draw ground truth boxes\n",
        "def draw_ground_truth(img_path, label_path, class_names):\n",
        "    image = cv2.imread(img_path)\n",
        "    h, w, _ = image.shape\n",
        "\n",
        "    # If label file exists, draw the boxes\n",
        "    if os.path.exists(label_path):\n",
        "        with open(label_path, 'r') as f:\n",
        "            for line in f:\n",
        "                class_id, cx, cy, bw, bh = map(float, line.strip().split())\n",
        "                x1 = int((cx - bw / 2) * w)\n",
        "                y1 = int((cy - bh / 2) * h)\n",
        "                x2 = int((cx + bw / 2) * w)\n",
        "                y2 = int((cy + bh / 2) * h)\n",
        "                label = class_names[int(class_id)]\n",
        "                cv2.rectangle(image, (x1, y1), (x2, y2), (0, 255, 0), 2)\n",
        "                cv2.putText(image, label, (x1, y1 - 10), cv2.FONT_HERSHEY_SIMPLEX,\n",
        "                            0.6, (36, 255, 12), 2)\n",
        "\n",
        "    return cv2.cvtColor(image, cv2.COLOR_BGR2RGB)\n",
        "\n",
        "# Load class names from YAML\n",
        "with open(dataset_path + \"/data.yaml\", 'r') as f:\n",
        "    class_names = yaml.safe_load(f)['names']\n",
        "\n",
        "# Get 8 image files evenly\n",
        "image_files = [f for f in os.listdir(train_images_path) if f.endswith('.jpg')]\n",
        "num_images = len(image_files)\n",
        "selected_images = [image_files[i] for i in range(0, num_images, max(1, num_images // 8))][:8]\n",
        "\n",
        "# Plot\n",
        "fig, axes = plt.subplots(2, 4, figsize=(20, 11))\n",
        "for ax, img_file in zip(axes.ravel(), selected_images):\n",
        "    img_path = os.path.join(train_images_path, img_file)\n",
        "    label_file = img_file.replace(\".jpg\", \".txt\")\n",
        "    label_path = os.path.join(train_images_path.replace(\"images\", \"labels\"), label_file)\n",
        "\n",
        "    annotated_image = draw_ground_truth(img_path, label_path, class_names)\n",
        "    ax.imshow(annotated_image)\n",
        "    clean_title = img_file.split('_')[0] + \"...\" + img_file[-8:-4]\n",
        "    ax.set_title(clean_title, fontsize=10)\n",
        "    ax.axis('off')\n",
        "\n",
        "plt.suptitle(\"Sample Training Images with Ground Truth Annotations\", fontsize=20)\n",
        "plt.tight_layout()\n",
        "plt.show()"
      ],
      "metadata": {
        "id": "v35Pwg42OISL"
      },
      "execution_count": null,
      "outputs": []
    },
    {
      "cell_type": "code",
      "source": [
        "!pip install --upgrade ultralytics ray wandb"
      ],
      "metadata": {
        "id": "IfyuPTgkOLbK"
      },
      "execution_count": null,
      "outputs": []
    },
    {
      "cell_type": "code",
      "source": [
        "results = model.train(\n",
        "    data=yaml_file_path,\n",
        "    epochs=100,\n",
        "    imgsz=640,\n",
        "    device=0,\n",
        "    patience=20,\n",
        "    batch=8,\n",
        "    optimizer='AdamW',\n",
        "    lr0=1e-4,\n",
        "    lrf=0.01,\n",
        "    dropout=0.2,\n",
        "    seed=42\n",
        ")"
      ],
      "metadata": {
        "id": "zcWM9DMjxGvy"
      },
      "execution_count": null,
      "outputs": []
    },
    {
      "cell_type": "markdown",
      "source": [
        "Saving Model"
      ],
      "metadata": {
        "id": "QXDNCtloMxlR"
      }
    },
    {
      "cell_type": "code",
      "source": [
        "# Mount Google Drive\n",
        "from google.colab import drive\n",
        "drive.mount('/content/drive')\n",
        "\n",
        "# Define save path on Drive\n",
        "drive_path = \"\"\n",
        "\n",
        "!mkdir -p {drive_path}\n",
        "!cp -r /content/runs/detect/train {drive_path}/\n",
        "!ls -lh {drive_path}/train"
      ],
      "metadata": {
        "id": "0JNicBRAMs92",
        "collapsed": true
      },
      "execution_count": null,
      "outputs": []
    }
  ]
}